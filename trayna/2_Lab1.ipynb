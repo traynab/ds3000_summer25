{
 "cells": [
  {
   "cell_type": "markdown",
   "metadata": {},
   "source": [
    "# DS 3000/CS 3200 Lab 1\n",
    "\n",
    "Due: Tuesday May 13 in-class\n",
    "\n",
    "### Submission Instructions\n",
    "Upload this `ipynb` file to GitHub, and then to Gradescope.  To ensure that your submitted `ipynb` file represents your latest code, make sure to give a fresh `Kernel > Restart & Run All` just before uploading the `ipynb` file to GitHub and verify that the correct version is represented on Gradescope.\n",
    "\n",
    "### Tips for success\n",
    "- Collaborate: bounce ideas off of each other, if you are having trouble you can ask your classmates or Dr. Gerber for help with specific issues, however...\n",
    "- [(See)](http://www.northeastern.edu/osccr/academic-integrity), i.e. you are welcome to **talk about/discuss** (*not* show or allow each other to copy your answers to) the problems."
   ]
  },
  {
   "cell_type": "markdown",
   "metadata": {},
   "source": [
    "# Part 1 (40 points): Intro to Markdown\n",
    "\n",
    "Use the markdown language below to create your own brief wikipedia-esque description of a topic related to International Government and Politics. \n",
    "\n",
    "Your mini-wiki page must include:\n",
    "- three headers: a title, subtitle and subsubtitle (the #, ##, ### syntax)\n",
    "- an embedded image from a web address (use an [image hosting site](https://makeawebsitehub.com/free-photo-hosting/) if you'd like to upload your own)\n",
    "- a **markdown** table of size at least 9 cells (i.e. 3 by 3, or 5 by 2)\n",
    "- a list in **markdown**\n",
    "- a link to another website\n",
    "\n",
    "To practice typing in math mode, also include a LaTeX formula describing how your final grade is going to be calculated based on the syllabus, something like:\n",
    "\n",
    "$$grade = weight_1*score_1 + weight_2*score_2$$\n",
    "\n",
    "Please be **brief** in your text.  Aim for roughly 3 sentences total of text."
   ]
  },
  {
   "cell_type": "markdown",
   "metadata": {},
   "source": [
    "# NATO\n",
    "## The North Atlantic Treaty Organization\n",
    "### READ ME: before Thursday, May 15, unless you wanna look like a loser when we visit NATO\n",
    "\n",
    "NATO is an alliance of countries from Europe and North America. It provides a unique link between these two continents, enabling them to consult and cooperate in the field of defence and security, and conduct multinational crisis-management operations together.\n",
    "\n",
    "![NATO Logo](https://upload.wikimedia.org/wikipedia/commons/thumb/3/37/Flag_of_NATO.svg/500px-Flag_of_NATO.svg.png)\n",
    "\n",
    "| Country       | Capital        | NATO Member Since |\n",
    "|---------------|----------------|-------------------|\n",
    "| United States | Washington, DC | 1949 (for now)    |\n",
    "| France        | Paris          | 1949              |\n",
    "| Germany       | Berlin         | 1955              |\n",
    "| Canada        | Ottawa         | 1949              |\n",
    "\n",
    "\n",
    "- Collective defense principle\n",
    "- Founded after World War II\n",
    "- Includes the US, UK, France, Germany, etc\n",
    "\n",
    "Learn more on the [official NATO website](https://www.nato.int).\n",
    "\n",
    "The formula for your final grade is:\n",
    "\n",
    "$$\n",
    "\\text{grade} = weight_1 \\times score_1 + weight_2 \\times score_2\n",
    "$$\n"
   ]
  },
  {
   "cell_type": "markdown",
   "metadata": {},
   "source": [
    "# Part 2: Numpy\n",
    "## Part 2.1: Creating Arrays (10 points)\n",
    "\n",
    "Create the following two arrays using the NumPy library and then print them out. Call the first array `array_a` and the second array `array_b` (make sure you keep the `import` statement below):\n",
    "\n",
    "$$\\mathbf{array_a} = \\begin{bmatrix}3 & 8 & -2 & 3\\\\\n",
    ".5 & -1 & 6 & 4\\\\\n",
    "-5 & 7 & -42 & 2\n",
    "\\end{bmatrix}$$\n",
    "\n",
    "$$\\mathbf{array_b} = \\begin{bmatrix}42 & 38 & 34\\\\\n",
    "30 & 26 & 22\\\\\n",
    "18 & 14 & 10\\\\\n",
    "6 & 2 & -2\\\\\n",
    "-6 & -10 & -14\n",
    "\\end{bmatrix}$$"
   ]
  },
  {
   "cell_type": "code",
   "execution_count": 2,
   "metadata": {},
   "outputs": [],
   "source": [
    "# make sure to import numpy library\n",
    "import numpy as np"
   ]
  },
  {
   "cell_type": "code",
   "execution_count": 3,
   "metadata": {},
   "outputs": [],
   "source": [
    "#Creating/saving the arrays\n",
    "array_a = np.array([[3, 8, -2, 3],\n",
    "                    [0.5, -1, 6, 4],\n",
    "                    [-5, 7, -42, 2]])\n",
    "\n",
    "array_b = np.array([[42, 38, 34],\n",
    "                    [30, 26, 22],\n",
    "                    [18, 14, 10],\n",
    "                    [6, 2, -2],\n",
    "                    [-6, -10, -14]])"
   ]
  },
  {
   "cell_type": "code",
   "execution_count": 4,
   "metadata": {},
   "outputs": [
    {
     "name": "stdout",
     "output_type": "stream",
     "text": [
      "[[  3.    8.   -2.    3. ]\n",
      " [  0.5  -1.    6.    4. ]\n",
      " [ -5.    7.  -42.    2. ]]\n"
     ]
    }
   ],
   "source": [
    "#Print array_a\n",
    "print(array_a)"
   ]
  },
  {
   "cell_type": "code",
   "execution_count": 5,
   "metadata": {},
   "outputs": [
    {
     "name": "stdout",
     "output_type": "stream",
     "text": [
      "[[ 42  38  34]\n",
      " [ 30  26  22]\n",
      " [ 18  14  10]\n",
      " [  6   2  -2]\n",
      " [ -6 -10 -14]]\n"
     ]
    }
   ],
   "source": [
    "#Print array_b\n",
    "print(array_b)"
   ]
  },
  {
   "cell_type": "markdown",
   "metadata": {},
   "source": [
    "## Part 2.2: Exploring Arrays (15 points)\n",
    "\n",
    "1. Give the shape, size, ndim, and nbytes for each of the two arrays.\n",
    "1. Take the transpose of both arrays. Call these `t_array_a` and `t_array_b`.\n",
    "1. Try to add `array_a` and `t_array_b` (*prove* and *show* you did this with commented out code), then remove the last column of `t_array_b` and try to add them again. In a markdown cell, explain what happened."
   ]
  },
  {
   "cell_type": "code",
   "execution_count": 23,
   "metadata": {},
   "outputs": [
    {
     "name": "stdout",
     "output_type": "stream",
     "text": [
      "array_a shape: (3, 4)\n",
      "array_a size: 12\n",
      "array_a ndim: 2\n",
      "array_a nbytes: 96\n",
      "array_b shape: (5, 3)\n",
      "array_b size: 15\n",
      "array_b ndim: 2\n",
      "array_b nbytes: 120\n"
     ]
    }
   ],
   "source": [
    "print(\"array_a shape:\", array_a.shape)\n",
    "print(\"array_a size:\", array_a.size)\n",
    "print(\"array_a ndim:\", array_a.ndim)\n",
    "print(\"array_a nbytes:\", array_a.nbytes)\n",
    "\n",
    "print(\"array_b shape:\", array_b.shape)\n",
    "print(\"array_b size:\", array_b.size)\n",
    "print(\"array_b ndim:\", array_b.ndim)\n",
    "print(\"array_b nbytes:\", array_b.nbytes)\n"
   ]
  },
  {
   "cell_type": "code",
   "execution_count": 24,
   "metadata": {},
   "outputs": [],
   "source": [
    "#2: transpose both arrays\n",
    "t_array_a = array_a.T\n",
    "t_array_b = array_b.T"
   ]
  },
  {
   "cell_type": "code",
   "execution_count": 25,
   "metadata": {},
   "outputs": [
    {
     "name": "stdout",
     "output_type": "stream",
     "text": [
      "[[ 45.   38.   16.    9. ]\n",
      " [ 38.5  25.   20.    6. ]\n",
      " [ 29.   29.  -32.    0. ]]\n"
     ]
    }
   ],
   "source": [
    "# Trying to add array a and t_array_b which ValueError due to shape mismatch because t_array_b is (3, 5)\n",
    "# print(array_a + t_array_b)\n",
    "\n",
    "# Slice to match (3, 4)\n",
    "t_array_b_trimmed = t_array_b[:, :-1]  \n",
    "\n",
    "# Now adding together \n",
    "result = array_a + t_array_b_trimmed\n",
    "print(result)"
   ]
  },
  {
   "cell_type": "markdown",
   "metadata": {},
   "source": [
    "When adding array_a and transposed array b, the dimensions of array a is (3,4) and transposed array b is (3,5). This would cause a ValueError because the numbers of rows are not equal. To solve this, I sliced to match the shape to (3, 4) which is why I \"-1\". from there I was able to add the results together. "
   ]
  },
  {
   "cell_type": "markdown",
   "metadata": {},
   "source": [
    "# Part 3: Pandas\n",
    "## Part 3.1: Reading in Data (5 points)\n",
    "\n",
    "On Canvas is the `train_stations_europe.csv` file. It was adapted from [this Kaggle data set](https://www.kaggle.com/datasets/headsortails/train-stations-in-europe). Read this data set in, using the `id` as the index column, and print the first few rows of the data. Make sure you keep the `import` statement below!"
   ]
  },
  {
   "cell_type": "code",
   "execution_count": 4,
   "metadata": {},
   "outputs": [
    {
     "data": {
      "text/html": [
       "<div>\n",
       "<style scoped>\n",
       "    .dataframe tbody tr th:only-of-type {\n",
       "        vertical-align: middle;\n",
       "    }\n",
       "\n",
       "    .dataframe tbody tr th {\n",
       "        vertical-align: top;\n",
       "    }\n",
       "\n",
       "    .dataframe thead th {\n",
       "        text-align: right;\n",
       "    }\n",
       "</style>\n",
       "<table border=\"1\" class=\"dataframe\">\n",
       "  <thead>\n",
       "    <tr style=\"text-align: right;\">\n",
       "      <th></th>\n",
       "      <th>name</th>\n",
       "      <th>latitude</th>\n",
       "      <th>longitude</th>\n",
       "      <th>parent_station_id</th>\n",
       "      <th>country</th>\n",
       "      <th>time_zone</th>\n",
       "      <th>is_city</th>\n",
       "      <th>is_main_station</th>\n",
       "      <th>is_airport</th>\n",
       "    </tr>\n",
       "    <tr>\n",
       "      <th>id</th>\n",
       "      <th></th>\n",
       "      <th></th>\n",
       "      <th></th>\n",
       "      <th></th>\n",
       "      <th></th>\n",
       "      <th></th>\n",
       "      <th></th>\n",
       "      <th></th>\n",
       "      <th></th>\n",
       "    </tr>\n",
       "  </thead>\n",
       "  <tbody>\n",
       "    <tr>\n",
       "      <th>1</th>\n",
       "      <td>Chateau-Arnoux-St-Auban</td>\n",
       "      <td>44.081790</td>\n",
       "      <td>6.001625</td>\n",
       "      <td>NaN</td>\n",
       "      <td>FR</td>\n",
       "      <td>Europe/Paris</td>\n",
       "      <td>True</td>\n",
       "      <td>False</td>\n",
       "      <td>False</td>\n",
       "    </tr>\n",
       "    <tr>\n",
       "      <th>2</th>\n",
       "      <td>Chateau-Arnoux-St-Auban</td>\n",
       "      <td>44.061565</td>\n",
       "      <td>5.997373</td>\n",
       "      <td>1.0</td>\n",
       "      <td>FR</td>\n",
       "      <td>Europe/Paris</td>\n",
       "      <td>False</td>\n",
       "      <td>True</td>\n",
       "      <td>False</td>\n",
       "    </tr>\n",
       "    <tr>\n",
       "      <th>3</th>\n",
       "      <td>Chateau-Arnoux Mairie</td>\n",
       "      <td>44.063863</td>\n",
       "      <td>6.011248</td>\n",
       "      <td>1.0</td>\n",
       "      <td>FR</td>\n",
       "      <td>Europe/Paris</td>\n",
       "      <td>False</td>\n",
       "      <td>False</td>\n",
       "      <td>False</td>\n",
       "    </tr>\n",
       "    <tr>\n",
       "      <th>4</th>\n",
       "      <td>Digne-les-Bains</td>\n",
       "      <td>44.350000</td>\n",
       "      <td>6.350000</td>\n",
       "      <td>NaN</td>\n",
       "      <td>FR</td>\n",
       "      <td>Europe/Paris</td>\n",
       "      <td>True</td>\n",
       "      <td>False</td>\n",
       "      <td>False</td>\n",
       "    </tr>\n",
       "    <tr>\n",
       "      <th>6</th>\n",
       "      <td>Digne-les-Bains</td>\n",
       "      <td>44.088710</td>\n",
       "      <td>6.222982</td>\n",
       "      <td>4.0</td>\n",
       "      <td>FR</td>\n",
       "      <td>Europe/Paris</td>\n",
       "      <td>False</td>\n",
       "      <td>True</td>\n",
       "      <td>False</td>\n",
       "    </tr>\n",
       "  </tbody>\n",
       "</table>\n",
       "</div>"
      ],
      "text/plain": [
       "                       name   latitude  longitude  parent_station_id country  \\\n",
       "id                                                                             \n",
       "1   Chateau-Arnoux-St-Auban  44.081790   6.001625                NaN      FR   \n",
       "2   Chateau-Arnoux-St-Auban  44.061565   5.997373                1.0      FR   \n",
       "3     Chateau-Arnoux Mairie  44.063863   6.011248                1.0      FR   \n",
       "4           Digne-les-Bains  44.350000   6.350000                NaN      FR   \n",
       "6           Digne-les-Bains  44.088710   6.222982                4.0      FR   \n",
       "\n",
       "       time_zone  is_city  is_main_station  is_airport  \n",
       "id                                                      \n",
       "1   Europe/Paris     True            False       False  \n",
       "2   Europe/Paris    False             True       False  \n",
       "3   Europe/Paris    False            False       False  \n",
       "4   Europe/Paris     True            False       False  \n",
       "6   Europe/Paris    False             True       False  "
      ]
     },
     "execution_count": 4,
     "metadata": {},
     "output_type": "execute_result"
    }
   ],
   "source": [
    "# make sure to import pandas library\n",
    "import pandas as pd\n",
    "\n",
    "df = pd.read_csv(\"train_stations_europe.csv\", index_col=\"id\")\n",
    "df.head()"
   ]
  },
  {
   "cell_type": "markdown",
   "metadata": {},
   "source": [
    "## Part 3.2: Manipulating Data (20 points)\n",
    "\n",
    "1. Create a subset of the data set which (a) **includes** only train stations in Belgium and (b) **excludes** all train stations which are **not** in a city. Make sure to save this subset as a new data frame and print the first few rows of the data.\n",
    "1. Use the `.describe()` function to produce summary statistics for the subset from the previous part. Create a markdown cell and explain:\n",
    "    - What Series did the `.describe()` function run on? What Series did it not run on? What is the difference, and what does this mean the `.describe()` function is used for?"
   ]
  },
  {
   "cell_type": "code",
   "execution_count": 5,
   "metadata": {},
   "outputs": [
    {
     "data": {
      "text/html": [
       "<div>\n",
       "<style scoped>\n",
       "    .dataframe tbody tr th:only-of-type {\n",
       "        vertical-align: middle;\n",
       "    }\n",
       "\n",
       "    .dataframe tbody tr th {\n",
       "        vertical-align: top;\n",
       "    }\n",
       "\n",
       "    .dataframe thead th {\n",
       "        text-align: right;\n",
       "    }\n",
       "</style>\n",
       "<table border=\"1\" class=\"dataframe\">\n",
       "  <thead>\n",
       "    <tr style=\"text-align: right;\">\n",
       "      <th></th>\n",
       "      <th>latitude</th>\n",
       "      <th>longitude</th>\n",
       "      <th>parent_station_id</th>\n",
       "    </tr>\n",
       "  </thead>\n",
       "  <tbody>\n",
       "    <tr>\n",
       "      <th>count</th>\n",
       "      <td>0.0</td>\n",
       "      <td>0.0</td>\n",
       "      <td>0.0</td>\n",
       "    </tr>\n",
       "    <tr>\n",
       "      <th>mean</th>\n",
       "      <td>NaN</td>\n",
       "      <td>NaN</td>\n",
       "      <td>NaN</td>\n",
       "    </tr>\n",
       "    <tr>\n",
       "      <th>std</th>\n",
       "      <td>NaN</td>\n",
       "      <td>NaN</td>\n",
       "      <td>NaN</td>\n",
       "    </tr>\n",
       "    <tr>\n",
       "      <th>min</th>\n",
       "      <td>NaN</td>\n",
       "      <td>NaN</td>\n",
       "      <td>NaN</td>\n",
       "    </tr>\n",
       "    <tr>\n",
       "      <th>25%</th>\n",
       "      <td>NaN</td>\n",
       "      <td>NaN</td>\n",
       "      <td>NaN</td>\n",
       "    </tr>\n",
       "    <tr>\n",
       "      <th>50%</th>\n",
       "      <td>NaN</td>\n",
       "      <td>NaN</td>\n",
       "      <td>NaN</td>\n",
       "    </tr>\n",
       "    <tr>\n",
       "      <th>75%</th>\n",
       "      <td>NaN</td>\n",
       "      <td>NaN</td>\n",
       "      <td>NaN</td>\n",
       "    </tr>\n",
       "    <tr>\n",
       "      <th>max</th>\n",
       "      <td>NaN</td>\n",
       "      <td>NaN</td>\n",
       "      <td>NaN</td>\n",
       "    </tr>\n",
       "  </tbody>\n",
       "</table>\n",
       "</div>"
      ],
      "text/plain": [
       "       latitude  longitude  parent_station_id\n",
       "count       0.0        0.0                0.0\n",
       "mean        NaN        NaN                NaN\n",
       "std         NaN        NaN                NaN\n",
       "min         NaN        NaN                NaN\n",
       "25%         NaN        NaN                NaN\n",
       "50%         NaN        NaN                NaN\n",
       "75%         NaN        NaN                NaN\n",
       "max         NaN        NaN                NaN"
      ]
     },
     "execution_count": 5,
     "metadata": {},
     "output_type": "execute_result"
    }
   ],
   "source": [
    "#please don't bully me for using \"not equal to true\" instead of \"equal to false\". for some reason, equal to false didn't work\n",
    "belgium_subset = df[(df[\"country\"] == \"BE\") & (df[\"is_city\"] != \"TRUE\")]\n",
    "belgium_subset.head()\n",
    "belgium_subset.describe()\n",
    "\n",
    "# Ive included the right way you are supposed to do it to show you I know how\n",
    "right_way_belgium_subset = df[(df[\"country\"] == \"BE\") & (df[\"is_city\"] == \"FALSE\")]\n",
    "right_way_belgium_subset.describe()"
   ]
  },
  {
   "cell_type": "markdown",
   "metadata": {},
   "source": [
    "# Part 4: GitHub (10 points)\n",
    "\n",
    "When you finish the first three parts, give one last restart and run all to this file. Then, go to the [DS 3000 GitHub](https://github.com/eaegerber/ds3000_summer25), fork it and then clone it to your local machine. Then:\n",
    "\n",
    "- In the forked and cloned ds3000_summer25 repo, make a new branch (`git checkout -b lab-upload`)\n",
    "- Create a folder with your name (as Dr. Gerber did)\n",
    "- Navigate to that folder and place this jupyter notebook inside\n",
    "- Add the file as the change to be committed (`git add .\\Lab1_MyName.ipynb`)\n",
    "- Check `git status`, your changes should be staged\n",
    "- Commit the changes with a short message (`git commit -m \"My message\"`)\n",
    "- Push the repository to GitHub (`git push origin lab-upload`)\n",
    "- Navigate the the GitHub in the browser and create a pull request\n",
    "- Once the pull request is merged, you can delete your branch in the \"Pull Requests\" tab in the browser\n",
    "- Finally, upload the Lab to Gradescope. When you do so, it will give you the option to do it via GitHub; do that."
   ]
  }
 ],
 "metadata": {
  "kernelspec": {
   "display_name": "Python 3",
   "language": "python",
   "name": "python3"
  },
  "language_info": {
   "codemirror_mode": {
    "name": "ipython",
    "version": 3
   },
   "file_extension": ".py",
   "mimetype": "text/x-python",
   "name": "python",
   "nbconvert_exporter": "python",
   "pygments_lexer": "ipython3",
   "version": "3.12.3"
  }
 },
 "nbformat": 4,
 "nbformat_minor": 4
}
